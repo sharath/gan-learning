{
 "cells": [
  {
   "cell_type": "code",
   "execution_count": 1,
   "metadata": {
    "colab": {},
    "colab_type": "code",
    "id": "kCDcY8_B44DA"
   },
   "outputs": [],
   "source": [
    "import torch\n",
    "import torch.nn as nn\n",
    "import torch.optim as optim\n",
    "import numpy as np\n",
    "import matplotlib.pyplot as plt\n",
    "from torch.utils.data import TensorDataset, DataLoader"
   ]
  },
  {
   "cell_type": "code",
   "execution_count": 2,
   "metadata": {
    "colab": {},
    "colab_type": "code",
    "id": "NS1HtU155Dj3"
   },
   "outputs": [],
   "source": [
    "latent_dim = 2\n",
    "vector_dim = 2\n",
    "model_dim = 512"
   ]
  },
  {
   "cell_type": "code",
   "execution_count": 3,
   "metadata": {
    "colab": {},
    "colab_type": "code",
    "id": "6KRT-AXv5DmY"
   },
   "outputs": [],
   "source": [
    "class Generator(nn.Module):\n",
    "    def __init__(self):\n",
    "        super(Generator, self).__init__()\n",
    "        self.seq = nn.Sequential(\n",
    "            nn.Linear(latent_dim, model_dim),\n",
    "            nn.ReLU(),\n",
    "            \n",
    "            nn.Linear(model_dim, model_dim),\n",
    "            nn.ReLU(),\n",
    "\n",
    "            nn.Linear(model_dim, model_dim),\n",
    "            nn.ReLU(),\n",
    "            \n",
    "            nn.Linear(model_dim, vector_dim)\n",
    "        )\n",
    "    def forward(self, x):\n",
    "        return self.seq(x)\n",
    "    \n",
    "class Discriminator(nn.Module):\n",
    "    def __init__(self):\n",
    "        super(Discriminator, self).__init__()\n",
    "        self.seq = nn.Sequential(\n",
    "            nn.utils.spectral_norm(nn.Linear(vector_dim, model_dim)),\n",
    "            nn.ReLU(),\n",
    "            \n",
    "            nn.utils.spectral_norm(nn.Linear(model_dim, model_dim)),\n",
    "            nn.ReLU(),\n",
    "\n",
    "            nn.utils.spectral_norm(nn.Linear(model_dim, model_dim)),\n",
    "            nn.ReLU(),\n",
    "            \n",
    "            nn.utils.spectral_norm(nn.Linear(model_dim, 1)),\n",
    "            nn.Sigmoid()\n",
    "        )\n",
    "    \n",
    "    def forward(self, x):\n",
    "        return self.seq(x)"
   ]
  },
  {
   "cell_type": "code",
   "execution_count": 4,
   "metadata": {
    "colab": {},
    "colab_type": "code",
    "id": "QQcrrmdy5DpA"
   },
   "outputs": [],
   "source": [
    "torch.manual_seed(1)\n",
    "c1 = torch.cat([0.1*torch.randn(20000, 1)+2, 0.1*torch.randn(20000, 1)+0], 1)\n",
    "c2 = torch.cat([0.1*torch.randn(20000, 1)-2, 0.1*torch.randn(20000, 1)+0], 1)\n",
    "\n",
    "c3 = torch.cat([0.1*torch.randn(20000, 1)+0, 0.1*torch.randn(20000, 1)+2], 1)\n",
    "c4 = torch.cat([0.1*torch.randn(20000, 1)+0, 0.1*torch.randn(20000, 1)-2], 1)\n",
    "\n",
    "c5 = torch.cat([0.1*torch.randn(20000, 1)-np.sqrt(2), 0.1*torch.randn(20000, 1)-np.sqrt(2)], 1)\n",
    "c6 = torch.cat([0.1*torch.randn(20000, 1)-np.sqrt(2), 0.1*torch.randn(20000, 1)+np.sqrt(2)], 1)\n",
    "\n",
    "c7 = torch.cat([0.1*torch.randn(20000, 1)+np.sqrt(2), 0.1*torch.randn(20000, 1)-np.sqrt(2)], 1)\n",
    "c8 = torch.cat([0.1*torch.randn(20000, 1)+np.sqrt(2), 0.1*torch.randn(20000, 1)+np.sqrt(2)], 1)"
   ]
  },
  {
   "cell_type": "code",
   "execution_count": 5,
   "metadata": {
    "colab": {
     "base_uri": "https://localhost:8080/",
     "height": 483
    },
    "colab_type": "code",
    "id": "c7WS0se85DrW",
    "outputId": "4e8d070d-d46f-4723-a924-202e65a237ee"
   },
   "outputs": [
    {
     "data": {
      "image/png": "[encoded data removed]",
      "text/plain": [
       "<Figure size 576x576 with 1 Axes>"
      ]
     },
     "metadata": {
      "needs_background": "light"
     },
     "output_type": "display_data"
    }
   ],
   "source": [
    "plt.gcf().set_size_inches(8, 8)\n",
    "\n",
    "plt.scatter(c1[:,0].numpy(), c1[:,1].numpy(), marker='.')\n",
    "plt.scatter(c2[:,0].numpy(), c2[:,1].numpy(), marker='.')\n",
    "plt.scatter(c3[:,0].numpy(), c3[:,1].numpy(), marker='.')\n",
    "plt.scatter(c4[:,0].numpy(), c4[:,1].numpy(), marker='.')\n",
    "plt.scatter(c5[:,0].numpy(), c5[:,1].numpy(), marker='.')\n",
    "plt.scatter(c6[:,0].numpy(), c6[:,1].numpy(), marker='.')\n",
    "plt.scatter(c7[:,0].numpy(), c7[:,1].numpy(), marker='.')\n",
    "plt.scatter(c8[:,0].numpy(), c8[:,1].numpy(), marker='.')\n",
    "plt.axis('equal')\n",
    "plt.show()"
   ]
  },
  {
   "cell_type": "code",
   "execution_count": 6,
   "metadata": {
    "colab": {},
    "colab_type": "code",
    "id": "K455QWc75Dtx"
   },
   "outputs": [],
   "source": [
    "device = 'cuda'"
   ]
  },
  {
   "cell_type": "code",
   "execution_count": 7,
   "metadata": {
    "colab": {},
    "colab_type": "code",
    "id": "UUr354ga5Dwj"
   },
   "outputs": [],
   "source": [
    "dataset = TensorDataset(torch.cat([c1, c2, c3, c4, c5, c6, c7, c8]).to(device))"
   ]
  },
  {
   "cell_type": "code",
   "execution_count": 8,
   "metadata": {
    "colab": {},
    "colab_type": "code",
    "id": "cei4Mayw5Dyy"
   },
   "outputs": [],
   "source": [
    "G = Generator().to(device)\n",
    "D = Discriminator().to(device)"
   ]
  },
  {
   "cell_type": "code",
   "execution_count": 9,
   "metadata": {
    "colab": {},
    "colab_type": "code",
    "id": "KYYnYh2i8btJ"
   },
   "outputs": [],
   "source": [
    "n_critic = 5\n",
    "learning_rate = 0.0005\n",
    "beta_1 = 0.5\n",
    "beta_2 = 0.9\n",
    "batch_size = 2048"
   ]
  },
  {
   "cell_type": "code",
   "execution_count": 10,
   "metadata": {
    "colab": {},
    "colab_type": "code",
    "id": "ZoC5OmRu5D1Q"
   },
   "outputs": [],
   "source": [
    "D_optimizer = optim.Adam(D.parameters(), lr=learning_rate, betas=(beta_1, beta_2))\n",
    "G_optimizer = optim.Adam(G.parameters(), lr=learning_rate, betas=(beta_1, beta_2))"
   ]
  },
  {
   "cell_type": "code",
   "execution_count": 11,
   "metadata": {
    "colab": {},
    "colab_type": "code",
    "id": "BRa-Zlpd9MZr"
   },
   "outputs": [],
   "source": [
    "class UniformDatasetSampler:\n",
    "    def __init__(self, dataset):\n",
    "        self.dataset = dataset\n",
    "    def get_batch(self, batch_size):\n",
    "        idx = torch.randint(0, len(self.dataset), (batch_size, ))\n",
    "        return self.dataset[idx][0].clone()"
   ]
  },
  {
   "cell_type": "code",
   "execution_count": 12,
   "metadata": {
    "colab": {},
    "colab_type": "code",
    "id": "d7btSIgh-n2S"
   },
   "outputs": [],
   "source": [
    "class UniformLatentSampler:\n",
    "    def __init__(self, latent_dim, low=-1, high=1):\n",
    "        self.latent_dim = latent_dim\n",
    "        self.low = -1\n",
    "        self.high = 1\n",
    "\n",
    "    def get_batch(self, batch_size):\n",
    "        return (self.high - self.low) * torch.rand((batch_size, self.latent_dim)).to(device) + self.low"
   ]
  },
  {
   "cell_type": "code",
   "execution_count": 13,
   "metadata": {
    "colab": {},
    "colab_type": "code",
    "id": "UnNq1Ts99q3z"
   },
   "outputs": [],
   "source": [
    "data_sampler = UniformDatasetSampler(dataset)\n",
    "noise_sampler = UniformLatentSampler(latent_dim)"
   ]
  },
  {
   "cell_type": "code",
   "execution_count": 14,
   "metadata": {
    "colab": {},
    "colab_type": "code",
    "id": "nfrwQOd85D3n"
   },
   "outputs": [],
   "source": [
    "losses = {\n",
    "    'D':[],\n",
    "    'G':[]\n",
    "}"
   ]
  },
  {
   "cell_type": "code",
   "execution_count": 15,
   "metadata": {
    "colab": {},
    "colab_type": "code",
    "id": "cd6p1db-ZIqB"
   },
   "outputs": [],
   "source": [
    "adv_crit = nn.BCELoss().to(device)"
   ]
  },
  {
   "cell_type": "code",
   "execution_count": 16,
   "metadata": {
    "colab": {
     "base_uri": "https://localhost:8080/",
     "height": 71
    },
    "colab_type": "code",
    "id": "oo-Iru525D6U",
    "outputId": "4158b7de-0472-4087-b90c-f3ac917687b6"
   },
   "outputs": [],
   "source": [
    "D.train()\n",
    "G.train()\n",
    "for t in range(10000):\n",
    "    D.zero_grad()\n",
    "\n",
    "    # compute real data loss\n",
    "    x_real = data_sampler.get_batch(batch_size)\n",
    "    real_pred = D(x_real)\n",
    "\n",
    "    # compute fake data loss\n",
    "    z_fake = noise_sampler.get_batch(batch_size)\n",
    "    x_fake = G(z_fake).detach()\n",
    "    fake_pred = D(x_fake)\n",
    "    \n",
    "    # backpropagate and step\n",
    "    D_loss = adv_crit(fake_pred, torch.zeros(batch_size, 1).to(device)) + adv_crit(real_pred, torch.ones(batch_size, 1).to(device))\n",
    "    D_loss.backward()\n",
    "    D_optimizer.step()\n",
    "    \n",
    "    if t % n_critic == 0:\n",
    "        G.zero_grad()\n",
    "        \n",
    "        # compute loss\n",
    "        z_fake = noise_sampler.get_batch(batch_size)\n",
    "        x_fake = G(z_fake)\n",
    "        fake_pred = D(x_fake)\n",
    "\n",
    "        # backpropagate and step\n",
    "        G_loss = adv_crit(fake_pred, torch.ones(batch_size, 1).to(device)) \n",
    "        G_loss.backward()\n",
    "        G_optimizer.step()\n",
    "                \n",
    "    losses['D'].append(D_loss.item())\n",
    "    losses['G'].append(G_loss.item())"
   ]
  },
  {
   "cell_type": "code",
   "execution_count": 17,
   "metadata": {
    "colab": {
     "base_uri": "https://localhost:8080/",
     "height": 265
    },
    "colab_type": "code",
    "id": "5fMdIZ_75D8j",
    "outputId": "37142f17-fa70-40de-9a21-53da3f426461"
   },
   "outputs": [
    {
     "data": {
      "image/png": "[encoded data removed]",
      "text/plain": [
       "<Figure size 432x288 with 1 Axes>"
      ]
     },
     "metadata": {
      "needs_background": "light"
     },
     "output_type": "display_data"
    }
   ],
   "source": [
    "plt.plot(losses['G'], label='Generator')\n",
    "plt.plot(losses['D'], label='Discriminator')\n",
    "plt.legend()\n",
    "plt.show()"
   ]
  },
  {
   "cell_type": "code",
   "execution_count": 18,
   "metadata": {
    "colab": {
     "base_uri": "https://localhost:8080/",
     "height": 204
    },
    "colab_type": "code",
    "id": "Qtz5uZAI6_nU",
    "outputId": "43c9f961-8f32-4564-b8dd-f081037b6aaa"
   },
   "outputs": [
    {
     "data": {
      "text/plain": [
       "Generator(\n",
       "  (seq): Sequential(\n",
       "    (0): Linear(in_features=2, out_features=512, bias=True)\n",
       "    (1): ReLU()\n",
       "    (2): Linear(in_features=512, out_features=512, bias=True)\n",
       "    (3): ReLU()\n",
       "    (4): Linear(in_features=512, out_features=512, bias=True)\n",
       "    (5): ReLU()\n",
       "    (6): Linear(in_features=512, out_features=2, bias=True)\n",
       "  )\n",
       ")"
      ]
     },
     "execution_count": 18,
     "metadata": {},
     "output_type": "execute_result"
    }
   ],
   "source": [
    "G.eval()"
   ]
  },
  {
   "cell_type": "code",
   "execution_count": 19,
   "metadata": {
    "colab": {
     "base_uri": "https://localhost:8080/",
     "height": 320
    },
    "colab_type": "code",
    "id": "5_M_1Bu86_qT",
    "outputId": "d3016057-db84-40cf-81b3-87754ee380e8"
   },
   "outputs": [
    {
     "data": {
      "image/png": "[encoded data removed]",
      "text/plain": [
       "<Figure size 360x360 with 1 Axes>"
      ]
     },
     "metadata": {
      "needs_background": "light"
     },
     "output_type": "display_data"
    }
   ],
   "source": [
    "plt.gcf().set_size_inches(5, 5)\n",
    "plt.scatter(c1[:,0].numpy(), c1[:,1].numpy(), marker='.')\n",
    "plt.scatter(c2[:,0].numpy(), c2[:,1].numpy(), marker='.')\n",
    "plt.scatter(c3[:,0].numpy(), c3[:,1].numpy(), marker='.')\n",
    "plt.scatter(c4[:,0].numpy(), c4[:,1].numpy(), marker='.')\n",
    "plt.scatter(c5[:,0].numpy(), c5[:,1].numpy(), marker='.')\n",
    "plt.scatter(c6[:,0].numpy(), c6[:,1].numpy(), marker='.')\n",
    "plt.scatter(c7[:,0].numpy(), c7[:,1].numpy(), marker='.')\n",
    "plt.scatter(c8[:,0].numpy(), c8[:,1].numpy(), marker='.')\n",
    "generated = G(2*torch.rand(100000, latent_dim).to(device)-1).detach().cpu().numpy()\n",
    "plt.scatter(generated[:,0], generated[:,1], marker='.', color=(0, 1, 0, 0.01))\n",
    "plt.axis('equal')\n",
    "plt.show()"
   ]
  }
 ],
 "metadata": {
  "accelerator": "GPU",
  "colab": {
   "collapsed_sections": [],
   "name": "wgan-gp.ipynb",
   "provenance": []
  },
  "kernelspec": {
   "display_name": "Python 3",
   "language": "python",
   "name": "python3"
  },
  "language_info": {
   "codemirror_mode": {
    "name": "ipython",
    "version": 3
   },
   "file_extension": ".py",
   "mimetype": "text/x-python",
   "name": "python",
   "nbconvert_exporter": "python",
   "pygments_lexer": "ipython3",
   "version": "3.6.8"
  }
 },
 "nbformat": 4,
 "nbformat_minor": 4
}
