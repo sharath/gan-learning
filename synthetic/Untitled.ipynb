{
 "cells": [
  {
   "cell_type": "code",
   "execution_count": 182,
   "metadata": {},
   "outputs": [],
   "source": [
    "import numpy as np"
   ]
  },
  {
   "cell_type": "code",
   "execution_count": 273,
   "metadata": {},
   "outputs": [],
   "source": [
    "class ImportanceConditionalDatasetSampler:\n",
    "    def __init__(self, dataset, labels, eps=0.001):\n",
    "        self.dataset = dataset\n",
    "        self.labels = labels\n",
    "        self.num_classes = len(set(labels.tolist()))\n",
    "        \n",
    "        self.indices = np.arange(len(self.dataset))\n",
    "        self.probs = np.ones_like(self.indices) / len(self.indices)\n",
    "        self.trace = np.ones_like(self.indices) / len(self.indices)\n",
    "        self.weights = np.ones_like(self.indices) / len(self.indices)\n",
    "                \n",
    "        self.last_idx = None\n",
    "        self.eps = eps\n",
    "        \n",
    "    def get_batch(self, batch_size):\n",
    "        if batch_size > np.sum(self.probs > 0):\n",
    "            self.probs[self.probs == 0] = self.trace[self.probs == 0]\n",
    "            self.weights[self.probs == 0] = self.trace[self.probs == 0]\n",
    "            self.trace = np.ones_like(self.indices) / len(self.indices)\n",
    "            \n",
    "        self.probs /= np.sum(self.probs)\n",
    "        idx = np.random.choice(self.indices, size=(batch_size, ), replace=False, p=self.probs)\n",
    "        self.probs[idx] = 0\n",
    "        \n",
    "        data = self.dataset[idx].clone()\n",
    "        labels_oh = torch.nn.functional.one_hot(self.labels[idx].clone().long(), self.num_classes).float()\n",
    "        \n",
    "        self.last_idx = idx\n",
    "        return data, labels_oh\n",
    "    \n",
    "    def record(self, h):\n",
    "        h = h.reshape(-1)\n",
    "        self.trace[self.last_idx] = 1 - h + self.eps\n",
    "        \n",
    "    def get_weights(self):\n",
    "        a = self.weights[self.last_idx]\n",
    "        return a + (1 - a.mean())"
   ]
  },
  {
   "cell_type": "code",
   "execution_count": 234,
   "metadata": {},
   "outputs": [],
   "source": [
    "from utils import load_data\n",
    "import torch"
   ]
  },
  {
   "cell_type": "code",
   "execution_count": 252,
   "metadata": {},
   "outputs": [],
   "source": [
    "data, labels = load_data('grid')"
   ]
  },
  {
   "cell_type": "code",
   "execution_count": 253,
   "metadata": {},
   "outputs": [
    {
     "data": {
      "text/plain": [
       "2500"
      ]
     },
     "execution_count": 253,
     "metadata": {},
     "output_type": "execute_result"
    }
   ],
   "source": [
    "len(data)"
   ]
  },
  {
   "cell_type": "code",
   "execution_count": 236,
   "metadata": {},
   "outputs": [],
   "source": [
    "sampler = DifficultyConditionalDatasetSampler(torch.tensor(data).float(), torch.tensor(labels).long()) "
   ]
  },
  {
   "cell_type": "code",
   "execution_count": 237,
   "metadata": {},
   "outputs": [
    {
     "data": {
      "text/plain": [
       "True"
      ]
     },
     "execution_count": 237,
     "metadata": {},
     "output_type": "execute_result"
    }
   ],
   "source": [
    "isinstance(sampler, DifficultyConditionalDatasetSampler)"
   ]
  },
  {
   "cell_type": "code",
   "execution_count": 254,
   "metadata": {},
   "outputs": [
    {
     "data": {
      "text/plain": [
       "(tensor([[-0.5350,  0.5240]]), tensor([[0., 0., 0., 1., 0., 0., 0., 0.]]))"
      ]
     },
     "execution_count": 254,
     "metadata": {},
     "output_type": "execute_result"
    }
   ],
   "source": [
    "sampler.get_batch(1)"
   ]
  },
  {
   "cell_type": "code",
   "execution_count": 247,
   "metadata": {},
   "outputs": [],
   "source": [
    "sampler.record(np.array([0]))"
   ]
  },
  {
   "cell_type": "code",
   "execution_count": 271,
   "metadata": {},
   "outputs": [],
   "source": [
    "a = np.ones(10)/10"
   ]
  },
  {
   "cell_type": "code",
   "execution_count": 272,
   "metadata": {},
   "outputs": [
    {
     "data": {
      "text/plain": [
       "array([1., 1., 1., 1., 1., 1., 1., 1., 1., 1.])"
      ]
     },
     "execution_count": 272,
     "metadata": {},
     "output_type": "execute_result"
    }
   ],
   "source": [
    "(a + (1 - a.mean()))"
   ]
  },
  {
   "cell_type": "code",
   "execution_count": 268,
   "metadata": {},
   "outputs": [
    {
     "data": {
      "text/plain": [
       "5.796822676124391"
      ]
     },
     "execution_count": 268,
     "metadata": {},
     "output_type": "execute_result"
    }
   ],
   "source": []
  }
 ],
 "metadata": {
  "kernelspec": {
   "display_name": "Python 3",
   "language": "python",
   "name": "python3"
  },
  "language_info": {
   "codemirror_mode": {
    "name": "ipython",
    "version": 3
   },
   "file_extension": ".py",
   "mimetype": "text/x-python",
   "name": "python",
   "nbconvert_exporter": "python",
   "pygments_lexer": "ipython3",
   "version": "3.6.8"
  }
 },
 "nbformat": 4,
 "nbformat_minor": 4
}
