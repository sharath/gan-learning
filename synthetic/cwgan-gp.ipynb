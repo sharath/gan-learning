{
 "cells": [
  {
   "cell_type": "code",
   "execution_count": 1,
   "metadata": {},
   "outputs": [],
   "source": [
    "import torch\n",
    "import torch.nn as nn\n",
    "import torch.optim as optim\n",
    "import numpy as np\n",
    "import matplotlib.pyplot as plt\n",
    "from utils import load_data\n",
    "from models import Generator, Discriminator\n",
    "from samplers import UniformConditionalDatasetSampler, UniformConditionalLatentSampler\n",
    "from config import params_wgangp"
   ]
  },
  {
   "cell_type": "code",
   "execution_count": 2,
   "metadata": {},
   "outputs": [],
   "source": [
    "configuration = 'wgangp'\n",
    "params = eval(f'params_{configuration}')"
   ]
  },
  {
   "cell_type": "code",
   "execution_count": 3,
   "metadata": {},
   "outputs": [],
   "source": [
    "np.random.seed(params['seed'])\n",
    "torch.manual_seed(params['seed'])\n",
    "torch.cuda.manual_seed_all(params['seed'])"
   ]
  },
  {
   "cell_type": "code",
   "execution_count": 4,
   "metadata": {},
   "outputs": [],
   "source": [
    "data, labels = load_data('grid')"
   ]
  },
  {
   "cell_type": "code",
   "execution_count": 5,
   "metadata": {},
   "outputs": [],
   "source": [
    "data_sampler = UniformConditionalDatasetSampler(torch.tensor(data).float(), torch.tensor(labels).long())\n",
    "noise_sampler = UniformConditionalLatentSampler(params['latent_dim'], labels)\n",
    "num_classes = data_sampler.num_classes"
   ]
  },
  {
   "cell_type": "code",
   "execution_count": 6,
   "metadata": {},
   "outputs": [],
   "source": [
    "G = Generator(params['latent_dim'] + num_classes, params['model_dim'], params['data_dim'], spec_norm=params['spec_norm_g']).to(params['device'])\n",
    "D = Discriminator(params['model_dim'], params['data_dim'] + num_classes, spec_norm=params['spec_norm_d']).to(params['device'])"
   ]
  },
  {
   "cell_type": "code",
   "execution_count": 7,
   "metadata": {},
   "outputs": [],
   "source": [
    "D_optimizer = optim.Adam(D.parameters(), lr=params['learning_rate'], betas=params['betas'])\n",
    "G_optimizer = optim.Adam(G.parameters(), lr=params['learning_rate'], betas=params['betas'])"
   ]
  },
  {
   "cell_type": "code",
   "execution_count": 8,
   "metadata": {},
   "outputs": [],
   "source": [
    "def compute_gp(real_data, real_labels, fake_data, fake_labels):\n",
    "    epsilon = torch.rand(real_data.shape[0], 1).to(params['device'])\n",
    "    alpha = epsilon.expand(real_data.size())\n",
    "    beta = epsilon.expand(real_labels.size())\n",
    "    \n",
    "    interpolate_data = (alpha * real_data + (1 - alpha) * fake_data).requires_grad_(True)\n",
    "    interpolate_labels = (beta * real_labels + (1 - beta) * fake_labels).requires_grad_(True)\n",
    "    interpolate = torch.cat([interpolate_data, interpolate_labels], dim=1)\n",
    "    interpolate_pred = D(interpolate)\n",
    "\n",
    "    gradients = torch.autograd.grad(outputs=interpolate_pred,\n",
    "                                    inputs=interpolate,\n",
    "                                    grad_outputs=torch.ones(interpolate_pred.size()).to(params['device']),\n",
    "                                    create_graph=True, retain_graph=True, only_inputs=True)[0]\n",
    "\n",
    "    gradient_penalty = (gradients.norm(2, dim=1) - 1).pow(2).mean() * params['gp_lambda']\n",
    "    return gradient_penalty"
   ]
  },
  {
   "cell_type": "code",
   "execution_count": 9,
   "metadata": {},
   "outputs": [],
   "source": [
    "losses = {\n",
    "    'D':[],\n",
    "    'G':[]\n",
    "}"
   ]
  },
  {
   "cell_type": "code",
   "execution_count": null,
   "metadata": {},
   "outputs": [],
   "source": [
    "D.train()\n",
    "G.train()\n",
    "for it in range(params['iterations']):\n",
    "    D.zero_grad()\n",
    "\n",
    "    # compute real data loss\n",
    "    x_real, y_real = data_sampler.get_batch(params['batch_size'])\n",
    "    x_real, y_real = x_real.to(params['device']), y_real.to(params['device'])\n",
    "    real_sample = torch.cat([x_real, y_real], dim=1)\n",
    "    real_pred = D(real_sample)\n",
    "\n",
    "    # compute fake data loss\n",
    "    z_fake, y_fake = noise_sampler.get_batch(params['batch_size'])\n",
    "    z_fake, y_fake = z_fake.to(params['device']), y_fake.to(params['device'])\n",
    "    x_fake = G(torch.cat([z_fake, y_fake], dim=1)).detach()\n",
    "    fake_sample = torch.cat([x_fake, y_fake], dim=1)\n",
    "    fake_pred = D(fake_sample)\n",
    "    \n",
    "    # backpropagate and step\n",
    "    gradient_penalty = compute_gp(x_real, y_real, x_fake, y_fake)\n",
    "    D_loss = fake_pred.mean() - real_pred.mean() + gradient_penalty\n",
    "    D_loss.backward()\n",
    "    D_optimizer.step()\n",
    "    \n",
    "    # for bookkeeping\n",
    "    D_loss = fake_pred.mean() - real_pred.mean()\n",
    "    \n",
    "    if it % params['n_critic'] == 0:\n",
    "        G.zero_grad()\n",
    "        \n",
    "        # compute loss\n",
    "        z_fake, y_fake = noise_sampler.get_batch(params['batch_size'])\n",
    "        z_fake, y_fake = z_fake.to(params['device']), y_fake.to(params['device'])\n",
    "        x_fake = G(torch.cat([z_fake, y_fake], dim=1))\n",
    "        fake_sample = torch.cat([x_fake, y_fake], dim=1)\n",
    "        fake_pred = D(fake_sample)\n",
    "\n",
    "        # backpropagate and step\n",
    "        G_loss = -fake_pred.mean()\n",
    "        G_loss.backward()\n",
    "        G_optimizer.step()\n",
    "                \n",
    "    losses['D'].append(D_loss.item())\n",
    "    losses['G'].append(-G_loss.item())"
   ]
  },
  {
   "cell_type": "code",
   "execution_count": null,
   "metadata": {},
   "outputs": [],
   "source": [
    "plt.plot(losses['G'], label='Generator')\n",
    "plt.plot(losses['D'], label='Discriminator')\n",
    "plt.legend()\n",
    "plt.show()"
   ]
  },
  {
   "cell_type": "code",
   "execution_count": null,
   "metadata": {},
   "outputs": [],
   "source": [
    "G.eval()"
   ]
  },
  {
   "cell_type": "code",
   "execution_count": null,
   "metadata": {},
   "outputs": [],
   "source": [
    "plt.gcf().set_size_inches(5, 5)\n",
    "z_fake, y_fake = noise_sampler.get_batch(100000)\n",
    "z_fake, y_fake = z_fake.to(params['device']), y_fake.to(params['device'])\n",
    "generated = G(torch.cat([z_fake, y_fake], dim=1)).detach().cpu().numpy()\n",
    "plt.scatter(generated[:,0], generated[:,1], marker='.', color=(0, 1, 0, 0.01))\n",
    "plt.axis('equal')\n",
    "plt.show()"
   ]
  }
 ],
 "metadata": {
  "kernelspec": {
   "display_name": "Python 3",
   "language": "python",
   "name": "python3"
  },
  "language_info": {
   "codemirror_mode": {
    "name": "ipython",
    "version": 3
   },
   "file_extension": ".py",
   "mimetype": "text/x-python",
   "name": "python",
   "nbconvert_exporter": "python",
   "pygments_lexer": "ipython3",
   "version": "3.6.8"
  }
 },
 "nbformat": 4,
 "nbformat_minor": 4
}
